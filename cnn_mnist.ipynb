{
 "cells": [
  {
   "cell_type": "code",
   "execution_count": 1,
   "metadata": {
    "collapsed": true
   },
   "outputs": [],
   "source": [
    "#encoding=utf-8\n",
    "import torch\n",
    "import torchvision as ptv\n",
    "import numpy as np\n",
    "import torch.nn as nn\n",
    "import torch.optim as optim\n",
    "import torch.nn.functional as F\n"
   ]
  },
  {
   "cell_type": "code",
   "execution_count": 2,
   "metadata": {},
   "outputs": [],
   "source": [
    "train_set = ptv.datasets.MNIST(\"./mnist/train\",train=True,transform=ptv.transforms.ToTensor(),download=False)\n",
    "test_set = ptv.datasets.MNIST(\"./mnist/test\",train=False,transform=ptv.transforms.ToTensor(),download=False)\n",
    "train_dataset = torch.utils.data.DataLoader(train_set,batch_size=100)\n",
    "test_dataset = torch.utils.data.DataLoader(test_set,batch_size=100)"
   ]
  },
  {
   "cell_type": "code",
   "execution_count": 3,
   "metadata": {},
   "outputs": [],
   "source": [
    "class CNNNet(nn.Module):\n",
    "    def __init__(self):\n",
    "        super(CNNNet,self).__init__()\n",
    "        \n",
    "        self.cnn = nn.Conv2d(in_channels=1,\n",
    "                            out_channels=16,\n",
    "                            kernel_size=(3,3),\n",
    "                            stride=1,\n",
    "                            padding=1)   #(kernerl_size-1)/2,输出:16,28,28\n",
    "        self.max_pool = nn.MaxPool2d(kernel_size=(2,2))   # 输出:16,14,14\n",
    "        #\n",
    "        self.cnn2 = nn.Sequential(\n",
    "            nn.Conv2d(in_channels=16,\n",
    "                     out_channels=32,\n",
    "                     kernel_size=5,\n",
    "                     stride=1,\n",
    "                     padding=2),\n",
    "            nn.ReLU(),\n",
    "            nn.MaxPool2d(2) #32,7,7\n",
    "        )#32,\n",
    "        \n",
    "        self.hid = nn.Linear(32*7*7,32)\n",
    "        \n",
    "        self.out = nn.Linear(32,10)\n",
    "    def forward(self,inputs):\n",
    "        batch_size = inputs.size(0)\n",
    "        cnn_out = F.relu(self.cnn(inputs))\n",
    "        pool_out = self.max_pool(cnn_out)\n",
    "        cnn2_out = self.cnn2(pool_out)\n",
    "        pool_out = cnn2_out.view(batch_size,-1)\n",
    "        h_o = F.relu(self.hid(pool_out))\n",
    "        \n",
    "        out = self.out(h_o)\n",
    "        return F.softmax(out)\n",
    "        \n",
    "        "
   ]
  },
  {
   "cell_type": "code",
   "execution_count": 4,
   "metadata": {},
   "outputs": [
    {
     "name": "stdout",
     "output_type": "stream",
     "text": [
      "CNNNet (\n",
      "  (cnn): Conv2d(1, 16, kernel_size=(3, 3), stride=(1, 1), padding=(1, 1))\n",
      "  (max_pool): MaxPool2d (size=(2, 2), stride=(2, 2), dilation=(1, 1))\n",
      "  (cnn2): Sequential (\n",
      "    (0): Conv2d(16, 32, kernel_size=(5, 5), stride=(1, 1), padding=(2, 2))\n",
      "    (1): ReLU ()\n",
      "    (2): MaxPool2d (size=(2, 2), stride=(2, 2), dilation=(1, 1))\n",
      "  )\n",
      "  (hid): Linear (1568 -> 32)\n",
      "  (out): Linear (32 -> 10)\n",
      ")\n"
     ]
    }
   ],
   "source": [
    "model = CNNNet()\n",
    "print(model)"
   ]
  },
  {
   "cell_type": "code",
   "execution_count": 5,
   "metadata": {
    "collapsed": true
   },
   "outputs": [],
   "source": [
    "optimizer = optim.Adam(model.parameters()，0.003)\n",
    "criterion = nn.CrossEntropyLoss()"
   ]
  },
  {
   "cell_type": "code",
   "execution_count": 7,
   "metadata": {
    "scrolled": true
   },
   "outputs": [
    {
     "name": "stdout",
     "output_type": "stream",
     "text": [
      "Epoch [1/10], Step [100], Loss: 1.4620\n",
      "Epoch [1/10], Step [200], Loss: 1.4615\n",
      "Epoch [1/10], Step [300], Loss: 1.4661\n",
      "Epoch [1/10], Step [400], Loss: 1.4694\n",
      "Epoch [1/10], Step [500], Loss: 1.4795\n",
      "Epoch [1/10], Step [600], Loss: 1.4712\n",
      "Epoch [2/10], Step [100], Loss: 1.4612\n",
      "Epoch [2/10], Step [200], Loss: 1.4639\n",
      "Epoch [2/10], Step [300], Loss: 1.4755\n",
      "Epoch [2/10], Step [400], Loss: 1.4645\n",
      "Epoch [2/10], Step [500], Loss: 1.4787\n",
      "Epoch [2/10], Step [600], Loss: 1.4712\n",
      "Epoch [3/10], Step [100], Loss: 1.4630\n",
      "Epoch [3/10], Step [200], Loss: 1.4618\n",
      "Epoch [3/10], Step [300], Loss: 1.4613\n",
      "Epoch [3/10], Step [400], Loss: 1.4612\n",
      "Epoch [3/10], Step [500], Loss: 1.4746\n",
      "Epoch [3/10], Step [600], Loss: 1.4712\n",
      "Epoch [4/10], Step [100], Loss: 1.4655\n",
      "Epoch [4/10], Step [200], Loss: 1.4613\n",
      "Epoch [4/10], Step [300], Loss: 1.4686\n",
      "Epoch [4/10], Step [400], Loss: 1.4641\n",
      "Epoch [4/10], Step [500], Loss: 1.4784\n",
      "Epoch [4/10], Step [600], Loss: 1.4712\n",
      "Epoch [5/10], Step [100], Loss: 1.4612\n",
      "Epoch [5/10], Step [200], Loss: 1.4613\n",
      "Epoch [5/10], Step [300], Loss: 1.4692\n",
      "Epoch [5/10], Step [400], Loss: 1.4615\n",
      "Epoch [5/10], Step [500], Loss: 1.4862\n",
      "Epoch [5/10], Step [600], Loss: 1.4712\n",
      "Epoch [6/10], Step [100], Loss: 1.4646\n",
      "Epoch [6/10], Step [200], Loss: 1.4612\n",
      "Epoch [6/10], Step [300], Loss: 1.4631\n",
      "Epoch [6/10], Step [400], Loss: 1.4612\n",
      "Epoch [6/10], Step [500], Loss: 1.4879\n",
      "Epoch [6/10], Step [600], Loss: 1.4712\n",
      "Epoch [7/10], Step [100], Loss: 1.4614\n",
      "Epoch [7/10], Step [200], Loss: 1.4634\n",
      "Epoch [7/10], Step [300], Loss: 1.4694\n",
      "Epoch [7/10], Step [400], Loss: 1.4612\n",
      "Epoch [7/10], Step [500], Loss: 1.4754\n",
      "Epoch [7/10], Step [600], Loss: 1.4712\n",
      "Epoch [8/10], Step [100], Loss: 1.4631\n",
      "Epoch [8/10], Step [200], Loss: 1.4618\n",
      "Epoch [8/10], Step [300], Loss: 1.4681\n",
      "Epoch [8/10], Step [400], Loss: 1.4614\n",
      "Epoch [8/10], Step [500], Loss: 1.4902\n",
      "Epoch [8/10], Step [600], Loss: 1.4712\n",
      "Epoch [9/10], Step [100], Loss: 1.4617\n",
      "Epoch [9/10], Step [200], Loss: 1.4612\n",
      "Epoch [9/10], Step [300], Loss: 1.4639\n",
      "Epoch [9/10], Step [400], Loss: 1.4612\n",
      "Epoch [9/10], Step [500], Loss: 1.4827\n",
      "Epoch [9/10], Step [600], Loss: 1.4712\n",
      "Epoch [10/10], Step [100], Loss: 1.4612\n",
      "Epoch [10/10], Step [200], Loss: 1.4612\n",
      "Epoch [10/10], Step [300], Loss: 1.4615\n",
      "Epoch [10/10], Step [400], Loss: 1.4710\n",
      "Epoch [10/10], Step [500], Loss: 1.4743\n",
      "Epoch [10/10], Step [600], Loss: 1.4783\n"
     ]
    }
   ],
   "source": [
    "from torch.autograd import Variable\n",
    "for epoch in range(10):\n",
    "\n",
    "    for i,(b_x,b_y) in enumerate(train_dataset):\n",
    "        b_x = Variable(b_x)\n",
    "        b_y = Variable(b_y)\n",
    "#         print(b_x.size())\n",
    "        predict = model(b_x)\n",
    "        loss = criterion(predict,b_y)\n",
    "        optimizer.zero_grad()\n",
    "        loss.backward()\n",
    "        optimizer.step()\n",
    "        if (i+1) % 100 == 0:\n",
    "            print ('Epoch [{}/{}], Step [{}], Loss: {:.4f}' \n",
    "                   .format(epoch+1, 10, i+1, loss.data[0]))\n",
    "        "
   ]
  },
  {
   "cell_type": "code",
   "execution_count": 12,
   "metadata": {},
   "outputs": [
    {
     "name": "stdout",
     "output_type": "stream",
     "text": [
      "Test Accuracy of the model on the 10000 test images: 98 %\n"
     ]
    }
   ],
   "source": [
    "model.eval()\n",
    "total=0\n",
    "correct = 0\n",
    "for i,(b_x,b_y) in enumerate(test_dataset):\n",
    "    b_x = Variable(b_x)\n",
    "    outputs = model(b_x)\n",
    "    _,predict = torch.max(outputs.data,1)\n",
    "    total += b_y.size(0)\n",
    "    correct += (predict==b_y).sum()\n",
    "print('Test Accuracy of the model on the 10000 test images: {} %'.format(100 * correct / total))"
   ]
  },
  {
   "cell_type": "code",
   "execution_count": null,
   "metadata": {
    "collapsed": true
   },
   "outputs": [],
   "source": []
  }
 ],
 "metadata": {
  "kernelspec": {
   "display_name": "Python 2",
   "language": "python",
   "name": "python2"
  },
  "language_info": {
   "codemirror_mode": {
    "name": "ipython",
    "version": 2
   },
   "file_extension": ".py",
   "mimetype": "text/x-python",
   "name": "python",
   "nbconvert_exporter": "python",
   "pygments_lexer": "ipython2",
   "version": "2.7.12"
  }
 },
 "nbformat": 4,
 "nbformat_minor": 2
}
