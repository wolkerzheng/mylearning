{
 "cells": [
  {
   "cell_type": "code",
   "execution_count": 2,
   "metadata": {},
   "outputs": [],
   "source": [
    "%matplotlib inline\n",
    "import matplotlib.pyplot as plt\n",
    "plt.style.use('ggplot')"
   ]
  },
  {
   "cell_type": "code",
   "execution_count": 3,
   "metadata": {},
   "outputs": [
    {
     "name": "stderr",
     "output_type": "stream",
     "text": [
      "D:\\anaconda\\envs\\py4dpln\\lib\\site-packages\\sklearn\\cross_validation.py:41: DeprecationWarning: This module was deprecated in version 0.18 in favor of the model_selection module into which all the refactored classes and functions are moved. Also note that the interface of the new CV iterators are different from that of this module. This module will be removed in 0.20.\n",
      "  \"This module will be removed in 0.20.\", DeprecationWarning)\n",
      "D:\\anaconda\\envs\\py4dpln\\lib\\site-packages\\sklearn\\grid_search.py:42: DeprecationWarning: This module was deprecated in version 0.18 in favor of the model_selection module into which all the refactored classes and functions are moved. This module will be removed in 0.20.\n",
      "  DeprecationWarning)\n"
     ]
    }
   ],
   "source": [
    "from itertools import chain\n",
    "\n",
    "import nltk\n",
    "import sklearn\n",
    "import scipy.stats\n",
    "from sklearn.metrics import make_scorer\n",
    "from sklearn.cross_validation import cross_val_score\n",
    "from sklearn.grid_search import RandomizedSearchCV\n",
    "\n",
    "import sklearn_crfsuite\n",
    "from sklearn_crfsuite import scorers\n",
    "from sklearn_crfsuite import metrics"
   ]
  },
  {
   "cell_type": "code",
   "execution_count": 4,
   "metadata": {},
   "outputs": [
    {
     "data": {
      "text/plain": [
       "['esp.testa', 'esp.testb', 'esp.train', 'ned.testa', 'ned.testb', 'ned.train']"
      ]
     },
     "execution_count": 4,
     "metadata": {},
     "output_type": "execute_result"
    }
   ],
   "source": [
    "nltk.corpus.conll2002.fileids()"
   ]
  },
  {
   "cell_type": "code",
   "execution_count": 5,
   "metadata": {},
   "outputs": [
    {
     "name": "stdout",
     "output_type": "stream",
     "text": [
      "Wall time: 2.47 s\n"
     ]
    }
   ],
   "source": [
    "%%time\n",
    "train_sents = list(nltk.corpus.conll2002.iob_sents('esp.train'))\n",
    "test_sents = list(nltk.corpus.conll2002.iob_sents('esp.testb'))"
   ]
  },
  {
   "cell_type": "code",
   "execution_count": 6,
   "metadata": {},
   "outputs": [
    {
     "data": {
      "text/plain": [
       "[('Melbourne', 'NP', 'B-LOC'),\n",
       " ('(', 'Fpa', 'O'),\n",
       " ('Australia', 'NP', 'B-LOC'),\n",
       " (')', 'Fpt', 'O'),\n",
       " (',', 'Fc', 'O'),\n",
       " ('25', 'Z', 'O'),\n",
       " ('may', 'NC', 'O'),\n",
       " ('(', 'Fpa', 'O'),\n",
       " ('EFE', 'NC', 'B-ORG'),\n",
       " (')', 'Fpt', 'O'),\n",
       " ('.', 'Fp', 'O')]"
      ]
     },
     "execution_count": 6,
     "metadata": {},
     "output_type": "execute_result"
    }
   ],
   "source": [
    "train_sents[0]"
   ]
  },
  {
   "cell_type": "code",
   "execution_count": 8,
   "metadata": {},
   "outputs": [],
   "source": [
    "def word2features(sent,i):\n",
    "    word = sent[i][0]\n",
    "    postag = sent[i][1]\n",
    "    features = {\n",
    "       ' bias': 1.0 ,\n",
    "        'word.lower()': word.lower(),\n",
    "        'word[-3:]': word[-3:],\n",
    "        'word[-2:]': word[-2:],\n",
    "        'word.isupper()': word.isupper(),\n",
    "        'word.istitle()': word.istitle(),\n",
    "        'word.isdigit()': word.isdigit(),\n",
    "        'postag': postag,\n",
    "        'postag[:2]': postag[:2],\n",
    "    }\n",
    "    if i > 0:\n",
    "        word1 = sent[i-1][0]\n",
    "        postag1 = sent[i-1][1]\n",
    "        features.update({\n",
    "            '-1:word.lower()': word1.lower(),\n",
    "            '-1:word.istitle()': word1.istitle(),\n",
    "            '-1:word.isupper()': word1.isupper(),\n",
    "            '-1:postag': postag1,\n",
    "            '-1:postag[:2]': postag1[:2],\n",
    "        })\n",
    "    else:\n",
    "        features['BOS'] = True\n",
    "    if i < len(sent)-1:\n",
    "        word1 = sent[i+1][0]\n",
    "        postag1 = sent[i+1][1]\n",
    "        features.update({\n",
    "            '+1:word.lower()': word1.lower(),\n",
    "            '+1:word.istitle()': word1.istitle(),\n",
    "            '+1:word.isupper()': word1.isupper(),\n",
    "            '+1:postag': postag1,\n",
    "            '+1:postag[:2]': postag1[:2],\n",
    "        })\n",
    "    else:\n",
    "        features['EOS'] = True\n",
    "\n",
    "    return features"
   ]
  },
  {
   "cell_type": "code",
   "execution_count": 13,
   "metadata": {},
   "outputs": [],
   "source": [
    "def sent2features(sent):\n",
    "    return [word2features(sent,i) for i in range(len(sent))]\n",
    "\n",
    "def sent2labels(sent):\n",
    "    return [label for token, postag,label in sent]\n",
    "def sent2tokens(sent):\n",
    "    return [token for token,postag,label in sent]"
   ]
  },
  {
   "cell_type": "code",
   "execution_count": 14,
   "metadata": {},
   "outputs": [
    {
     "data": {
      "text/plain": [
       "{' bias': 1.0,\n",
       " '+1:postag': 'Fpa',\n",
       " '+1:postag[:2]': 'Fp',\n",
       " '+1:word.istitle()': False,\n",
       " '+1:word.isupper()': False,\n",
       " '+1:word.lower()': '(',\n",
       " 'BOS': True,\n",
       " 'postag': 'NP',\n",
       " 'postag[:2]': 'NP',\n",
       " 'word.isdigit()': False,\n",
       " 'word.istitle()': True,\n",
       " 'word.isupper()': False,\n",
       " 'word.lower()': 'melbourne',\n",
       " 'word[-2:]': 'ne',\n",
       " 'word[-3:]': 'rne'}"
      ]
     },
     "execution_count": 14,
     "metadata": {},
     "output_type": "execute_result"
    }
   ],
   "source": [
    "sent2features(train_sents[0])[0]"
   ]
  },
  {
   "cell_type": "code",
   "execution_count": 15,
   "metadata": {},
   "outputs": [],
   "source": [
    "X_train = [sent2features(s) for s in train_sents]\n",
    "y_train = [sent2labels(s) for s in train_sents]\n",
    "\n",
    "X_test = [sent2features(s) for s in test_sents]\n",
    "y_test = [sent2labels(s) for s in test_sents]"
   ]
  },
  {
   "cell_type": "code",
   "execution_count": 16,
   "metadata": {},
   "outputs": [
    {
     "name": "stdout",
     "output_type": "stream",
     "text": [
      "Wall time: 33.8 s\n"
     ]
    }
   ],
   "source": [
    "%%time\n",
    "crf = sklearn_crfsuite.CRF(\n",
    "    algorithm='lbfgs',\n",
    "    c1=0.1,\n",
    "    c2=0.1,\n",
    "    max_iterations=100,\n",
    "    all_possible_transitions=True\n",
    ")\n",
    "crf.fit(X_train, y_train)"
   ]
  },
  {
   "cell_type": "code",
   "execution_count": 17,
   "metadata": {},
   "outputs": [
    {
     "name": "stdout",
     "output_type": "stream",
     "text": [
      "[[{'BOS': True, 'word[-2:]': 'ne', '+1:word.istitle()': False, 'word.isdigit()': False, 'word[-3:]': 'rne', '+1:word.lower()': '(', '+1:postag': 'Fpa', '+1:postag[:2]': 'Fp', '+1:word.isupper()': False, 'word.lower()': 'melbourne', ' bias': 1.0, 'postag': 'NP', 'word.isupper()': False, 'postag[:2]': 'NP', 'word.istitle()': True}, {'word[-2:]': '(', '+1:word.istitle()': True, 'word.isdigit()': False, 'word[-3:]': '(', '+1:postag[:2]': 'NP', '-1:postag': 'NP', '+1:postag': 'NP', '+1:word.lower()': 'australia', '+1:word.isupper()': False, 'word.lower()': '(', '-1:word.isupper()': False, '-1:word.lower()': 'melbourne', '-1:postag[:2]': 'NP', '-1:word.istitle()': True, ' bias': 1.0, 'postag': 'Fpa', 'word.isupper()': False, 'postag[:2]': 'Fp', 'word.istitle()': False}, {'word[-2:]': 'ia', '+1:word.istitle()': False, 'word.isdigit()': False, 'word[-3:]': 'lia', '+1:postag[:2]': 'Fp', '-1:postag': 'Fpa', '+1:postag': 'Fpt', '+1:word.lower()': ')', '+1:word.isupper()': False, 'word.lower()': 'australia', '-1:word.isupper()': False, '-1:word.lower()': '(', '-1:postag[:2]': 'Fp', '-1:word.istitle()': False, ' bias': 1.0, 'postag': 'NP', 'word.isupper()': False, 'postag[:2]': 'NP', 'word.istitle()': True}, {'word[-2:]': ')', '+1:word.istitle()': False, 'word.isdigit()': False, 'word[-3:]': ')', '+1:postag[:2]': 'Fc', '-1:postag': 'NP', '+1:postag': 'Fc', '+1:word.lower()': ',', '+1:word.isupper()': False, 'word.lower()': ')', '-1:word.isupper()': False, '-1:word.lower()': 'australia', '-1:postag[:2]': 'NP', '-1:word.istitle()': True, ' bias': 1.0, 'postag': 'Fpt', 'word.isupper()': False, 'postag[:2]': 'Fp', 'word.istitle()': False}, {'word[-2:]': ',', '+1:word.istitle()': False, 'word.isdigit()': False, 'word[-3:]': ',', '+1:postag[:2]': 'Z', '-1:postag': 'Fpt', '+1:postag': 'Z', '+1:word.lower()': '25', '+1:word.isupper()': False, 'word.lower()': ',', '-1:word.isupper()': False, '-1:word.lower()': ')', '-1:postag[:2]': 'Fp', '-1:word.istitle()': False, ' bias': 1.0, 'postag': 'Fc', 'word.isupper()': False, 'postag[:2]': 'Fc', 'word.istitle()': False}, {'word[-2:]': '25', '+1:word.istitle()': False, 'word.isdigit()': True, 'word[-3:]': '25', '+1:postag[:2]': 'NC', '-1:postag': 'Fc', '+1:postag': 'NC', '+1:word.lower()': 'may', '+1:word.isupper()': False, 'word.lower()': '25', '-1:word.isupper()': False, '-1:word.lower()': ',', '-1:postag[:2]': 'Fc', '-1:word.istitle()': False, ' bias': 1.0, 'postag': 'Z', 'word.isupper()': False, 'postag[:2]': 'Z', 'word.istitle()': False}, {'word[-2:]': 'ay', '+1:word.istitle()': False, 'word.isdigit()': False, 'word[-3:]': 'may', '+1:postag[:2]': 'Fp', '-1:postag': 'Z', '+1:postag': 'Fpa', '+1:word.lower()': '(', '+1:word.isupper()': False, 'word.lower()': 'may', '-1:word.isupper()': False, '-1:word.lower()': '25', '-1:postag[:2]': 'Z', '-1:word.istitle()': False, ' bias': 1.0, 'postag': 'NC', 'word.isupper()': False, 'postag[:2]': 'NC', 'word.istitle()': False}, {'word[-2:]': '(', '+1:word.istitle()': False, 'word.isdigit()': False, 'word[-3:]': '(', '+1:postag[:2]': 'NC', '-1:postag': 'NC', '+1:postag': 'NC', '+1:word.lower()': 'efe', '+1:word.isupper()': True, 'word.lower()': '(', '-1:word.isupper()': False, '-1:word.lower()': 'may', '-1:postag[:2]': 'NC', '-1:word.istitle()': False, ' bias': 1.0, 'postag': 'Fpa', 'word.isupper()': False, 'postag[:2]': 'Fp', 'word.istitle()': False}, {'word[-2:]': 'FE', '+1:word.istitle()': False, 'word.isdigit()': False, 'word[-3:]': 'EFE', '+1:postag[:2]': 'Fp', '-1:postag': 'Fpa', '+1:postag': 'Fpt', '+1:word.lower()': ')', '+1:word.isupper()': False, 'word.lower()': 'efe', '-1:word.isupper()': False, '-1:word.lower()': '(', '-1:postag[:2]': 'Fp', '-1:word.istitle()': False, ' bias': 1.0, 'postag': 'NC', 'word.isupper()': True, 'postag[:2]': 'NC', 'word.istitle()': False}, {'word[-2:]': ')', '+1:word.istitle()': False, 'word.isdigit()': False, 'word[-3:]': ')', '+1:postag[:2]': 'Fp', '-1:postag': 'NC', '+1:postag': 'Fp', '+1:word.lower()': '.', '+1:word.isupper()': False, 'word.lower()': ')', '-1:word.isupper()': True, '-1:word.lower()': 'efe', '-1:postag[:2]': 'NC', '-1:word.istitle()': False, ' bias': 1.0, 'postag': 'Fpt', 'word.isupper()': False, 'postag[:2]': 'Fp', 'word.istitle()': False}, {'word[-2:]': '.', 'word.isdigit()': False, 'word[-3:]': '.', '-1:postag': 'Fpt', 'word.lower()': '.', '-1:word.isupper()': False, 'EOS': True, '-1:word.lower()': ')', '-1:postag[:2]': 'Fp', '-1:word.istitle()': False, ' bias': 1.0, 'postag': 'Fp', 'word.isupper()': False, 'postag[:2]': 'Fp', 'word.istitle()': False}], [{'word.lower()': '-', 'word[-2:]': '-', 'word.isdigit()': False, 'word[-3:]': '-', 'EOS': True, 'BOS': True, ' bias': 1.0, 'postag': 'Fg', 'word.isupper()': False, 'postag[:2]': 'Fg', 'word.istitle()': False}], [{'BOS': True, 'word[-2:]': 'El', '+1:word.istitle()': True, 'word.isdigit()': False, 'word[-3:]': 'El', '+1:word.lower()': 'abogado', '+1:postag': 'NC', '+1:postag[:2]': 'NC', '+1:word.isupper()': False, 'word.lower()': 'el', ' bias': 1.0, 'postag': 'DA', 'word.isupper()': False, 'postag[:2]': 'DA', 'word.istitle()': True}, {'word[-2:]': 'do', '+1:word.istitle()': True, 'word.isdigit()': False, 'word[-3:]': 'ado', '+1:postag[:2]': 'AQ', '-1:postag': 'DA', '+1:postag': 'AQ', '+1:word.lower()': 'general', '+1:word.isupper()': False, 'word.lower()': 'abogado', '-1:word.isupper()': False, '-1:word.lower()': 'el', '-1:postag[:2]': 'DA', '-1:word.istitle()': True, ' bias': 1.0, 'postag': 'NC', 'word.isupper()': False, 'postag[:2]': 'NC', 'word.istitle()': True}, {'word[-2:]': 'al', '+1:word.istitle()': False, 'word.isdigit()': False, 'word[-3:]': 'ral', '+1:postag[:2]': 'SP', '-1:postag': 'NC', '+1:postag': 'SP', '+1:word.lower()': 'del', '+1:word.isupper()': False, 'word.lower()': 'general', '-1:word.isupper()': False, '-1:word.lower()': 'abogado', '-1:postag[:2]': 'NC', '-1:word.istitle()': True, ' bias': 1.0, 'postag': 'AQ', 'word.isupper()': False, 'postag[:2]': 'AQ', 'word.istitle()': True}, {'word[-2:]': 'el', '+1:word.istitle()': True, 'word.isdigit()': False, 'word[-3:]': 'del', '+1:postag[:2]': 'NC', '-1:postag': 'AQ', '+1:postag': 'NC', '+1:word.lower()': 'estado', '+1:word.isupper()': False, 'word.lower()': 'del', '-1:word.isupper()': False, '-1:word.lower()': 'general', '-1:postag[:2]': 'AQ', '-1:word.istitle()': True, ' bias': 1.0, 'postag': 'SP', 'word.isupper()': False, 'postag[:2]': 'SP', 'word.istitle()': False}, {'word[-2:]': 'do', '+1:word.istitle()': False, 'word.isdigit()': False, 'word[-3:]': 'ado', '+1:postag[:2]': 'Fc', '-1:postag': 'SP', '+1:postag': 'Fc', '+1:word.lower()': ',', '+1:word.isupper()': False, 'word.lower()': 'estado', '-1:word.isupper()': False, '-1:word.lower()': 'del', '-1:postag[:2]': 'SP', '-1:word.istitle()': False, ' bias': 1.0, 'postag': 'NC', 'word.isupper()': False, 'postag[:2]': 'NC', 'word.istitle()': True}, {'word[-2:]': ',', '+1:word.istitle()': True, 'word.isdigit()': False, 'word[-3:]': ',', '+1:postag[:2]': 'VM', '-1:postag': 'NC', '+1:postag': 'VMI', '+1:word.lower()': 'daryl', '+1:word.isupper()': False, 'word.lower()': ',', '-1:word.isupper()': False, '-1:word.lower()': 'estado', '-1:postag[:2]': 'NC', '-1:word.istitle()': True, ' bias': 1.0, 'postag': 'Fc', 'word.isupper()': False, 'postag[:2]': 'Fc', 'word.istitle()': False}, {'word[-2:]': 'yl', '+1:word.istitle()': True, 'word.isdigit()': False, 'word[-3:]': 'ryl', '+1:postag[:2]': 'NC', '-1:postag': 'Fc', '+1:postag': 'NC', '+1:word.lower()': 'williams', '+1:word.isupper()': False, 'word.lower()': 'daryl', '-1:word.isupper()': False, '-1:word.lower()': ',', '-1:postag[:2]': 'Fc', '-1:word.istitle()': False, ' bias': 1.0, 'postag': 'VMI', 'word.isupper()': False, 'postag[:2]': 'VM', 'word.istitle()': True}, {'word[-2:]': 'ms', '+1:word.istitle()': False, 'word.isdigit()': False, 'word[-3:]': 'ams', '+1:postag[:2]': 'Fc', '-1:postag': 'VMI', '+1:postag': 'Fc', '+1:word.lower()': ',', '+1:word.isupper()': False, 'word.lower()': 'williams', '-1:word.isupper()': False, '-1:word.lower()': 'daryl', '-1:postag[:2]': 'VM', '-1:word.istitle()': True, ' bias': 1.0, 'postag': 'NC', 'word.isupper()': False, 'postag[:2]': 'NC', 'word.istitle()': True}, {'word[-2:]': ',', '+1:word.istitle()': False, 'word.isdigit()': False, 'word[-3:]': ',', '+1:postag[:2]': 'VM', '-1:postag': 'NC', '+1:postag': 'VMI', '+1:word.lower()': 'subrayó', '+1:word.isupper()': False, 'word.lower()': ',', '-1:word.isupper()': False, '-1:word.lower()': 'williams', '-1:postag[:2]': 'NC', '-1:word.istitle()': True, ' bias': 1.0, 'postag': 'Fc', 'word.isupper()': False, 'postag[:2]': 'Fc', 'word.istitle()': False}, {'word[-2:]': 'yó', '+1:word.istitle()': False, 'word.isdigit()': False, 'word[-3:]': 'ayó', '+1:postag[:2]': 'RG', '-1:postag': 'Fc', '+1:postag': 'RG', '+1:word.lower()': 'hoy', '+1:word.isupper()': False, 'word.lower()': 'subrayó', '-1:word.isupper()': False, '-1:word.lower()': ',', '-1:postag[:2]': 'Fc', '-1:word.istitle()': False, ' bias': 1.0, 'postag': 'VMI', 'word.isupper()': False, 'postag[:2]': 'VM', 'word.istitle()': False}, {'word[-2:]': 'oy', '+1:word.istitle()': False, 'word.isdigit()': False, 'word[-3:]': 'hoy', '+1:postag[:2]': 'DA', '-1:postag': 'VMI', '+1:postag': 'DA', '+1:word.lower()': 'la', '+1:word.isupper()': False, 'word.lower()': 'hoy', '-1:word.isupper()': False, '-1:word.lower()': 'subrayó', '-1:postag[:2]': 'VM', '-1:word.istitle()': False, ' bias': 1.0, 'postag': 'RG', 'word.isupper()': False, 'postag[:2]': 'RG', 'word.istitle()': False}, {'word[-2:]': 'la', '+1:word.istitle()': False, 'word.isdigit()': False, 'word[-3:]': 'la', '+1:postag[:2]': 'NC', '-1:postag': 'RG', '+1:postag': 'NC', '+1:word.lower()': 'necesidad', '+1:word.isupper()': False, 'word.lower()': 'la', '-1:word.isupper()': False, '-1:word.lower()': 'hoy', '-1:postag[:2]': 'RG', '-1:word.istitle()': False, ' bias': 1.0, 'postag': 'DA', 'word.isupper()': False, 'postag[:2]': 'DA', 'word.istitle()': False}, {'word[-2:]': 'ad', '+1:word.istitle()': False, 'word.isdigit()': False, 'word[-3:]': 'dad', '+1:postag[:2]': 'SP', '-1:postag': 'DA', '+1:postag': 'SP', '+1:word.lower()': 'de', '+1:word.isupper()': False, 'word.lower()': 'necesidad', '-1:word.isupper()': False, '-1:word.lower()': 'la', '-1:postag[:2]': 'DA', '-1:word.istitle()': False, ' bias': 1.0, 'postag': 'NC', 'word.isupper()': False, 'postag[:2]': 'NC', 'word.istitle()': False}, {'word[-2:]': 'de', '+1:word.istitle()': False, 'word.isdigit()': False, 'word[-3:]': 'de', '+1:postag[:2]': 'VM', '-1:postag': 'NC', '+1:postag': 'VMN', '+1:word.lower()': 'tomar', '+1:word.isupper()': False, 'word.lower()': 'de', '-1:word.isupper()': False, '-1:word.lower()': 'necesidad', '-1:postag[:2]': 'NC', '-1:word.istitle()': False, ' bias': 1.0, 'postag': 'SP', 'word.isupper()': False, 'postag[:2]': 'SP', 'word.istitle()': False}, {'word[-2:]': 'ar', '+1:word.istitle()': False, 'word.isdigit()': False, 'word[-3:]': 'mar', '+1:postag[:2]': 'NC', '-1:postag': 'SP', '+1:postag': 'NC', '+1:word.lower()': 'medidas', '+1:word.isupper()': False, 'word.lower()': 'tomar', '-1:word.isupper()': False, '-1:word.lower()': 'de', '-1:postag[:2]': 'SP', '-1:word.istitle()': False, ' bias': 1.0, 'postag': 'VMN', 'word.isupper()': False, 'postag[:2]': 'VM', 'word.istitle()': False}, {'word[-2:]': 'as', '+1:word.istitle()': False, 'word.isdigit()': False, 'word[-3:]': 'das', '+1:postag[:2]': 'SP', '-1:postag': 'VMN', '+1:postag': 'SP', '+1:word.lower()': 'para', '+1:word.isupper()': False, 'word.lower()': 'medidas', '-1:word.isupper()': False, '-1:word.lower()': 'tomar', '-1:postag[:2]': 'VM', '-1:word.istitle()': False, ' bias': 1.0, 'postag': 'NC', 'word.isupper()': False, 'postag[:2]': 'NC', 'word.istitle()': False}, {'word[-2:]': 'ra', '+1:word.istitle()': False, 'word.isdigit()': False, 'word[-3:]': 'ara', '+1:postag[:2]': 'VM', '-1:postag': 'NC', '+1:postag': 'VMN', '+1:word.lower()': 'proteger', '+1:word.isupper()': False, 'word.lower()': 'para', '-1:word.isupper()': False, '-1:word.lower()': 'medidas', '-1:postag[:2]': 'NC', '-1:word.istitle()': False, ' bias': 1.0, 'postag': 'SP', 'word.isupper()': False, 'postag[:2]': 'SP', 'word.istitle()': False}, {'word[-2:]': 'er', '+1:word.istitle()': False, 'word.isdigit()': False, 'word[-3:]': 'ger', '+1:postag[:2]': 'SP', '-1:postag': 'SP', '+1:postag': 'SP', '+1:word.lower()': 'al', '+1:word.isupper()': False, 'word.lower()': 'proteger', '-1:word.isupper()': False, '-1:word.lower()': 'para', '-1:postag[:2]': 'SP', '-1:word.istitle()': False, ' bias': 1.0, 'postag': 'VMN', 'word.isupper()': False, 'postag[:2]': 'VM', 'word.istitle()': False}, {'word[-2:]': 'al', '+1:word.istitle()': False, 'word.isdigit()': False, 'word[-3:]': 'al', '+1:postag[:2]': 'NC', '-1:postag': 'VMN', '+1:postag': 'NC', '+1:word.lower()': 'sistema', '+1:word.isupper()': False, 'word.lower()': 'al', '-1:word.isupper()': False, '-1:word.lower()': 'proteger', '-1:postag[:2]': 'VM', '-1:word.istitle()': False, ' bias': 1.0, 'postag': 'SP', 'word.isupper()': False, 'postag[:2]': 'SP', 'word.istitle()': False}, {'word[-2:]': 'ma', '+1:word.istitle()': False, 'word.isdigit()': False, 'word[-3:]': 'ema', '+1:postag[:2]': 'AQ', '-1:postag': 'SP', '+1:postag': 'AQ', '+1:word.lower()': 'judicial', '+1:word.isupper()': False, 'word.lower()': 'sistema', '-1:word.isupper()': False, '-1:word.lower()': 'al', '-1:postag[:2]': 'SP', '-1:word.istitle()': False, ' bias': 1.0, 'postag': 'NC', 'word.isupper()': False, 'postag[:2]': 'NC', 'word.istitle()': False}, {'word[-2:]': 'al', '+1:word.istitle()': False, 'word.isdigit()': False, 'word[-3:]': 'ial', '+1:postag[:2]': 'AQ', '-1:postag': 'NC', '+1:postag': 'AQ', '+1:word.lower()': 'australiano', '+1:word.isupper()': False, 'word.lower()': 'judicial', '-1:word.isupper()': False, '-1:word.lower()': 'sistema', '-1:postag[:2]': 'NC', '-1:word.istitle()': False, ' bias': 1.0, 'postag': 'AQ', 'word.isupper()': False, 'postag[:2]': 'AQ', 'word.istitle()': False}, {'word[-2:]': 'no', '+1:word.istitle()': False, 'word.isdigit()': False, 'word[-3:]': 'ano', '+1:postag[:2]': 'RG', '-1:postag': 'AQ', '+1:postag': 'RG', '+1:word.lower()': 'frente', '+1:word.isupper()': False, 'word.lower()': 'australiano', '-1:word.isupper()': False, '-1:word.lower()': 'judicial', '-1:postag[:2]': 'AQ', '-1:word.istitle()': False, ' bias': 1.0, 'postag': 'AQ', 'word.isupper()': False, 'postag[:2]': 'AQ', 'word.istitle()': False}, {'word[-2:]': 'te', '+1:word.istitle()': False, 'word.isdigit()': False, 'word[-3:]': 'nte', '+1:postag[:2]': 'SP', '-1:postag': 'AQ', '+1:postag': 'SP', '+1:word.lower()': 'a', '+1:word.isupper()': False, 'word.lower()': 'frente', '-1:word.isupper()': False, '-1:word.lower()': 'australiano', '-1:postag[:2]': 'AQ', '-1:word.istitle()': False, ' bias': 1.0, 'postag': 'RG', 'word.isupper()': False, 'postag[:2]': 'RG', 'word.istitle()': False}, {'word[-2:]': 'a', '+1:word.istitle()': False, 'word.isdigit()': False, 'word[-3:]': 'a', '+1:postag[:2]': 'DI', '-1:postag': 'RG', '+1:postag': 'DI', '+1:word.lower()': 'una', '+1:word.isupper()': False, 'word.lower()': 'a', '-1:word.isupper()': False, '-1:word.lower()': 'frente', '-1:postag[:2]': 'RG', '-1:word.istitle()': False, ' bias': 1.0, 'postag': 'SP', 'word.isupper()': False, 'postag[:2]': 'SP', 'word.istitle()': False}, {'word[-2:]': 'na', '+1:word.istitle()': False, 'word.isdigit()': False, 'word[-3:]': 'una', '+1:postag[:2]': 'NC', '-1:postag': 'SP', '+1:postag': 'NC', '+1:word.lower()': 'página', '+1:word.isupper()': False, 'word.lower()': 'una', '-1:word.isupper()': False, '-1:word.lower()': 'a', '-1:postag[:2]': 'SP', '-1:word.istitle()': False, ' bias': 1.0, 'postag': 'DI', 'word.isupper()': False, 'postag[:2]': 'DI', 'word.istitle()': False}, {'word[-2:]': 'na', '+1:word.istitle()': False, 'word.isdigit()': False, 'word[-3:]': 'ina', '+1:postag[:2]': 'SP', '-1:postag': 'DI', '+1:postag': 'SP', '+1:word.lower()': 'de', '+1:word.isupper()': False, 'word.lower()': 'página', '-1:word.isupper()': False, '-1:word.lower()': 'una', '-1:postag[:2]': 'DI', '-1:word.istitle()': False, ' bias': 1.0, 'postag': 'NC', 'word.isupper()': False, 'postag[:2]': 'NC', 'word.istitle()': False}, {'word[-2:]': 'de', '+1:word.istitle()': False, 'word.isdigit()': False, 'word[-3:]': 'de', '+1:postag[:2]': 'NC', '-1:postag': 'NC', '+1:postag': 'NC', '+1:word.lower()': 'internet', '+1:word.isupper()': False, 'word.lower()': 'de', '-1:word.isupper()': False, '-1:word.lower()': 'página', '-1:postag[:2]': 'NC', '-1:word.istitle()': False, ' bias': 1.0, 'postag': 'SP', 'word.isupper()': False, 'postag[:2]': 'SP', 'word.istitle()': False}, {'word[-2:]': 'et', '+1:word.istitle()': False, 'word.isdigit()': False, 'word[-3:]': 'net', '+1:postag[:2]': 'PR', '-1:postag': 'SP', '+1:postag': 'PR', '+1:word.lower()': 'que', '+1:word.isupper()': False, 'word.lower()': 'internet', '-1:word.isupper()': False, '-1:word.lower()': 'de', '-1:postag[:2]': 'SP', '-1:word.istitle()': False, ' bias': 1.0, 'postag': 'NC', 'word.isupper()': False, 'postag[:2]': 'NC', 'word.istitle()': False}, {'word[-2:]': 'ue', '+1:word.istitle()': False, 'word.isdigit()': False, 'word[-3:]': 'que', '+1:postag[:2]': 'VM', '-1:postag': 'NC', '+1:postag': 'VMI', '+1:word.lower()': 'imposibilita', '+1:word.isupper()': False, 'word.lower()': 'que', '-1:word.isupper()': False, '-1:word.lower()': 'internet', '-1:postag[:2]': 'NC', '-1:word.istitle()': False, ' bias': 1.0, 'postag': 'PR', 'word.isupper()': False, 'postag[:2]': 'PR', 'word.istitle()': False}, {'word[-2:]': 'ta', '+1:word.istitle()': False, 'word.isdigit()': False, 'word[-3:]': 'ita', '+1:postag[:2]': 'DA', '-1:postag': 'PR', '+1:postag': 'DA', '+1:word.lower()': 'el', '+1:word.isupper()': False, 'word.lower()': 'imposibilita', '-1:word.isupper()': False, '-1:word.lower()': 'que', '-1:postag[:2]': 'PR', '-1:word.istitle()': False, ' bias': 1.0, 'postag': 'VMI', 'word.isupper()': False, 'postag[:2]': 'VM', 'word.istitle()': False}, {'word[-2:]': 'el', '+1:word.istitle()': False, 'word.isdigit()': False, 'word[-3:]': 'el', '+1:postag[:2]': 'NC', '-1:postag': 'VMI', '+1:postag': 'NC', '+1:word.lower()': 'cumplimiento', '+1:word.isupper()': False, 'word.lower()': 'el', '-1:word.isupper()': False, '-1:word.lower()': 'imposibilita', '-1:postag[:2]': 'VM', '-1:word.istitle()': False, ' bias': 1.0, 'postag': 'DA', 'word.isupper()': False, 'postag[:2]': 'DA', 'word.istitle()': False}, {'word[-2:]': 'to', '+1:word.istitle()': False, 'word.isdigit()': False, 'word[-3:]': 'nto', '+1:postag[:2]': 'SP', '-1:postag': 'DA', '+1:postag': 'SP', '+1:word.lower()': 'de', '+1:word.isupper()': False, 'word.lower()': 'cumplimiento', '-1:word.isupper()': False, '-1:word.lower()': 'el', '-1:postag[:2]': 'DA', '-1:word.istitle()': False, ' bias': 1.0, 'postag': 'NC', 'word.isupper()': False, 'postag[:2]': 'NC', 'word.istitle()': False}, {'word[-2:]': 'de', '+1:word.istitle()': False, 'word.isdigit()': False, 'word[-3:]': 'de', '+1:postag[:2]': 'DA', '-1:postag': 'NC', '+1:postag': 'DA', '+1:word.lower()': 'los', '+1:word.isupper()': False, 'word.lower()': 'de', '-1:word.isupper()': False, '-1:word.lower()': 'cumplimiento', '-1:postag[:2]': 'NC', '-1:word.istitle()': False, ' bias': 1.0, 'postag': 'SP', 'word.isupper()': False, 'postag[:2]': 'SP', 'word.istitle()': False}, {'word[-2:]': 'os', '+1:word.istitle()': False, 'word.isdigit()': False, 'word[-3:]': 'los', '+1:postag[:2]': 'NC', '-1:postag': 'SP', '+1:postag': 'NC', '+1:word.lower()': 'principios', '+1:word.isupper()': False, 'word.lower()': 'los', '-1:word.isupper()': False, '-1:word.lower()': 'de', '-1:postag[:2]': 'SP', '-1:word.istitle()': False, ' bias': 1.0, 'postag': 'DA', 'word.isupper()': False, 'postag[:2]': 'DA', 'word.istitle()': False}, {'word[-2:]': 'os', '+1:word.istitle()': False, 'word.isdigit()': False, 'word[-3:]': 'ios', '+1:postag[:2]': 'AQ', '-1:postag': 'DA', '+1:postag': 'AQ', '+1:word.lower()': 'básicos', '+1:word.isupper()': False, 'word.lower()': 'principios', '-1:word.isupper()': False, '-1:word.lower()': 'los', '-1:postag[:2]': 'DA', '-1:word.istitle()': False, ' bias': 1.0, 'postag': 'NC', 'word.isupper()': False, 'postag[:2]': 'NC', 'word.istitle()': False}, {'word[-2:]': 'os', '+1:word.istitle()': False, 'word.isdigit()': False, 'word[-3:]': 'cos', '+1:postag[:2]': 'SP', '-1:postag': 'NC', '+1:postag': 'SP', '+1:word.lower()': 'de', '+1:word.isupper()': False, 'word.lower()': 'básicos', '-1:word.isupper()': False, '-1:word.lower()': 'principios', '-1:postag[:2]': 'NC', '-1:word.istitle()': False, ' bias': 1.0, 'postag': 'AQ', 'word.isupper()': False, 'postag[:2]': 'AQ', 'word.istitle()': False}, {'word[-2:]': 'de', '+1:word.istitle()': False, 'word.isdigit()': False, 'word[-3:]': 'de', '+1:postag[:2]': 'DA', '-1:postag': 'AQ', '+1:postag': 'DA', '+1:word.lower()': 'la', '+1:word.isupper()': False, 'word.lower()': 'de', '-1:word.isupper()': False, '-1:word.lower()': 'básicos', '-1:postag[:2]': 'AQ', '-1:word.istitle()': False, ' bias': 1.0, 'postag': 'SP', 'word.isupper()': False, 'postag[:2]': 'SP', 'word.istitle()': False}, {'word[-2:]': 'la', '+1:word.istitle()': True, 'word.isdigit()': False, 'word[-3:]': 'la', '+1:postag[:2]': 'NC', '-1:postag': 'SP', '+1:postag': 'NC', '+1:word.lower()': 'ley', '+1:word.isupper()': False, 'word.lower()': 'la', '-1:word.isupper()': False, '-1:word.lower()': 'de', '-1:postag[:2]': 'SP', '-1:word.istitle()': False, ' bias': 1.0, 'postag': 'DA', 'word.isupper()': False, 'postag[:2]': 'DA', 'word.istitle()': False}, {'word[-2:]': 'ey', '+1:word.istitle()': False, 'word.isdigit()': False, 'word[-3:]': 'Ley', '+1:postag[:2]': 'Fp', '-1:postag': 'DA', '+1:postag': 'Fp', '+1:word.lower()': '.', '+1:word.isupper()': False, 'word.lower()': 'ley', '-1:word.isupper()': False, '-1:word.lower()': 'la', '-1:postag[:2]': 'DA', '-1:word.istitle()': False, ' bias': 1.0, 'postag': 'NC', 'word.isupper()': False, 'postag[:2]': 'NC', 'word.istitle()': True}, {'word[-2:]': '.', 'word.isdigit()': False, 'word[-3:]': '.', '-1:postag': 'NC', 'word.lower()': '.', '-1:word.isupper()': False, 'EOS': True, '-1:word.lower()': 'ley', '-1:postag[:2]': 'NC', '-1:word.istitle()': True, ' bias': 1.0, 'postag': 'Fp', 'word.isupper()': False, 'postag[:2]': 'Fp', 'word.istitle()': False}]]"
     ]
    },
    {
     "name": "stdout",
     "output_type": "stream",
     "text": [
      "\n",
      "............................\n",
      "[['B-LOC', 'O', 'B-LOC', 'O', 'O', 'O', 'O', 'O', 'B-ORG', 'O', 'O'], ['O'], ['O', 'B-PER', 'I-PER', 'I-PER', 'I-PER', 'O', 'B-PER', 'I-PER', 'O', 'O', 'O', 'O', 'O', 'O', 'O', 'O', 'O', 'O', 'O', 'O', 'O', 'O', 'O', 'O', 'O', 'O', 'O', 'O', 'O', 'O', 'O', 'O', 'O', 'O', 'O', 'O', 'O', 'O', 'B-MISC', 'O']]\n"
     ]
    }
   ],
   "source": [
    "print(X_train[0:3])\n",
    "print('............................')\n",
    "print(y_train[0:3])"
   ]
  },
  {
   "cell_type": "code",
   "execution_count": 18,
   "metadata": {},
   "outputs": [
    {
     "data": {
      "text/plain": [
       "['B-LOC', 'B-ORG', 'B-PER', 'I-PER', 'B-MISC', 'I-ORG', 'I-LOC', 'I-MISC']"
      ]
     },
     "execution_count": 18,
     "metadata": {},
     "output_type": "execute_result"
    }
   ],
   "source": [
    "labels = list(crf.classes_)\n",
    "labels.remove('O')\n",
    "labels"
   ]
  },
  {
   "cell_type": "code",
   "execution_count": 19,
   "metadata": {},
   "outputs": [
    {
     "data": {
      "text/plain": [
       "0.7964686316443963"
      ]
     },
     "execution_count": 19,
     "metadata": {},
     "output_type": "execute_result"
    }
   ],
   "source": [
    "y_pred = crf.predict(X_test)\n",
    "metrics.flat_f1_score(y_test, y_pred,\n",
    "                      average='weighted', labels=labels)"
   ]
  },
  {
   "cell_type": "code",
   "execution_count": 20,
   "metadata": {
    "scrolled": true
   },
   "outputs": [
    {
     "name": "stdout",
     "output_type": "stream",
     "text": [
      "             precision    recall  f1-score   support\n",
      "\n",
      "      B-LOC      0.810     0.784     0.797      1084\n",
      "      I-LOC      0.690     0.637     0.662       325\n",
      "     B-MISC      0.731     0.569     0.640       339\n",
      "     I-MISC      0.699     0.589     0.639       557\n",
      "      B-ORG      0.807     0.832     0.820      1400\n",
      "      I-ORG      0.852     0.786     0.818      1104\n",
      "      B-PER      0.850     0.884     0.867       735\n",
      "      I-PER      0.893     0.943     0.917       634\n",
      "\n",
      "avg / total      0.809     0.787     0.796      6178\n",
      "\n"
     ]
    }
   ],
   "source": [
    "sorted_labels = sorted(\n",
    "    labels,\n",
    "    key=lambda name: (name[1:], name[0])\n",
    ")\n",
    "print(metrics.flat_classification_report(\n",
    "    y_test, y_pred, labels=sorted_labels, digits=3\n",
    "))"
   ]
  },
  {
   "cell_type": "markdown",
   "metadata": {},
   "source": [
    "#超参数调整"
   ]
  },
  {
   "cell_type": "code",
   "execution_count": 25,
   "metadata": {},
   "outputs": [
    {
     "name": "stdout",
     "output_type": "stream",
     "text": [
      "Fitting 3 folds for each of 50 candidates, totalling 150 fits\n"
     ]
    },
    {
     "name": "stderr",
     "output_type": "stream",
     "text": [
      "[Parallel(n_jobs=-1)]: Done  34 tasks      | elapsed:  3.6min\n",
      "[Parallel(n_jobs=-1)]: Done 150 out of 150 | elapsed: 13.7min finished\n"
     ]
    },
    {
     "name": "stdout",
     "output_type": "stream",
     "text": [
      "Wall time: 14min 14s\n"
     ]
    }
   ],
   "source": [
    "%%time\n",
    "# define fixed parameters and parameters to search\n",
    "crf = sklearn_crfsuite.CRF(\n",
    "    algorithm='lbfgs',\n",
    "    max_iterations=100,\n",
    "    all_possible_transitions=True\n",
    ")\n",
    "params_space = {\n",
    "    'c1': scipy.stats.expon(scale=0.5),\n",
    "    'c2': scipy.stats.expon(scale=0.05),\n",
    "}\n",
    "\n",
    "# use the same metric for evaluation\n",
    "f1_scorer = make_scorer(metrics.flat_f1_score,\n",
    "                        average='weighted', labels=labels)\n",
    "\n",
    "# search\n",
    "rs = RandomizedSearchCV(crf, params_space,\n",
    "                        cv=3,\n",
    "                        verbose=1,\n",
    "                        n_jobs=-1,\n",
    "                        n_iter=50,\n",
    "                        scoring=f1_scorer)\n",
    "rs.fit(X_train, y_train)"
   ]
  },
  {
   "cell_type": "code",
   "execution_count": 26,
   "metadata": {},
   "outputs": [
    {
     "name": "stdout",
     "output_type": "stream",
     "text": [
      "best params: {'c1': 0.08947547339335606, 'c2': 0.028183154844722565}\n",
      "best CV score: 0.74918228495038\n",
      "model size: 1.41M\n"
     ]
    }
   ],
   "source": [
    "# crf = rs.best_estimator_\n",
    "print('best params:', rs.best_params_)\n",
    "print('best CV score:', rs.best_score_)\n",
    "print('model size: {:0.2f}M'.format(rs.best_estimator_.size_ / 1000000))\n"
   ]
  },
  {
   "cell_type": "code",
   "execution_count": 27,
   "metadata": {},
   "outputs": [
    {
     "name": "stdout",
     "output_type": "stream",
     "text": [
      "Dark blue => 0.715, dark red => 0.7492\n"
     ]
    },
    {
     "data": {
      "image/png": "[encoded data removed]",
      "text/plain": [
       "<matplotlib.figure.Figure at 0x252d4d38dd8>"
      ]
     },
     "metadata": {},
     "output_type": "display_data"
    }
   ],
   "source": [
    "_x = [s.parameters['c1'] for s in rs.grid_scores_]\n",
    "_y = [s.parameters['c2'] for s in rs.grid_scores_]\n",
    "_c = [s.mean_validation_score for s in rs.grid_scores_]\n",
    "\n",
    "fig = plt.figure()\n",
    "fig.set_size_inches(12, 12)\n",
    "ax = plt.gca()\n",
    "ax.set_yscale('log')\n",
    "ax.set_xscale('log')\n",
    "ax.set_xlabel('C1')\n",
    "ax.set_ylabel('C2')\n",
    "ax.set_title(\"Randomized Hyperparameter Search CV Results (min={:0.3}, max={:0.3})\".format(\n",
    "    min(_c), max(_c)\n",
    "))\n",
    "\n",
    "ax.scatter(_x, _y, c=_c, s=60, alpha=0.9, edgecolors=[0,0,0])\n",
    "\n",
    "print(\"Dark blue => {:0.4}, dark red => {:0.4}\".format(min(_c), max(_c)))"
   ]
  },
  {
   "cell_type": "code",
   "execution_count": null,
   "metadata": {},
   "outputs": [],
   "source": []
  }
 ],
 "metadata": {
  "kernelspec": {
   "display_name": "Python 3",
   "language": "python",
   "name": "python3"
  },
  "language_info": {
   "codemirror_mode": {
    "name": "ipython",
    "version": 3
   },
   "file_extension": ".py",
   "mimetype": "text/x-python",
   "name": "python",
   "nbconvert_exporter": "python",
   "pygments_lexer": "ipython3",
   "version": "3.5.4"
  }
 },
 "nbformat": 4,
 "nbformat_minor": 2
}
